{
 "cells": [
  {
   "cell_type": "markdown",
   "metadata": {},
   "source": [
    "## Practical Session 6 - scraping the web with urllib3 and beautifulsoup\n",
    "\n",
    "Students (pair):\n",
    "- [Félix Monnier]([link](https://github.com/felixmnnr))\n",
    "- [Henri Vasseur]([link](https://github.com/Henrivasseur))"
   ]
  },
  {
   "cell_type": "markdown",
   "metadata": {},
   "source": [
    "**Useful references for this lab**:\n",
    "\n",
    "[1] `urllib3`: [documentation](https://urllib3.readthedocs.io/en/latest/)\n",
    "\n",
    "[2] `beautifulsoup4`: [documentation](https://www.crummy.com/software/BeautifulSoup/bs4/doc/) \n",
    "\n",
    "\n",
    "## <a name=\"content\">Contents</a>\n",
    "- [Exercise 1: Parsing the content of a web page](#ex1)\n",
    "- [Exercise 2: Extracting information from Wikipedia](#ex2)\n",
    "---"
   ]
  },
  {
   "cell_type": "markdown",
   "metadata": {},
   "source": [
    " This notebook is aimed at introducing Python functions and library to automatically collect data from static web pages. In particular, this session will be devoted to the `urllib3` and `Beautiful Soup` packages.\n",
    "\n",
    " Other useful packages in this context:\n",
    " - `os` & `sys` to issue system instructions;\n",
    " - `re` for [**r**egular **e**xpressions when manipulating text strings](https://docs.python.org/3/library/re.html). The test the validity of a regular expression;\n",
    " - `datetime` to interact with dates & times."
   ]
  },
  {
   "cell_type": "code",
   "execution_count": 1,
   "metadata": {},
   "outputs": [],
   "source": [
    "import os\n",
    "import re\n",
    "import sys\n",
    "from datetime import date, datetime\n",
    "\n",
    "import urllib3\n",
    "from bs4 import BeautifulSoup\n",
    "\n",
    "%load_ext autoreload\n",
    "%autoreload 2"
   ]
  },
  {
   "cell_type": "markdown",
   "metadata": {},
   "source": [
    " To take Centrale Lille's proxy into account:"
   ]
  },
  {
   "cell_type": "code",
   "execution_count": 2,
   "metadata": {},
   "outputs": [],
   "source": [
    "# If proxy : to get out through Centrale Lille's proxy\n",
    "centrale_proxy = False\n",
    "if centrale_proxy:\n",
    "    proxy = urllib3.ProxyManager(\"http://cache.ec-lille.fr:3128\")\n",
    "else:\n",
    "    proxy = urllib3.PoolManager()\n",
    "\n",
    "# See https://stackoverflow.com/questions/40490187/get-proxy-address-on-auto-proxy-discovery-mode-on-mac-os-x\n",
    "# scutil --proxy"
   ]
  },
  {
   "cell_type": "markdown",
   "metadata": {},
   "source": [
    "## <a name=\"ex1\">Exercise/example 1: parsing the content of a web page</a> [(&#8593;)](#content)\n",
    "\n",
    "This example consits in retrieving the version number of the Beautiful Soup package, appearing in the top left corner of the associated [documentation webpage](https://www.crummy.com/software/BeautifulSoup/bs4/doc/). To do this, you can for isntance use the following instructions."
   ]
  },
  {
   "cell_type": "code",
   "execution_count": 3,
   "metadata": {},
   "outputs": [],
   "source": [
    "import certifi\n",
    "\n",
    "cert_path = certifi.where()\n",
    "\n",
    "http = urllib3.PoolManager(cert_reqs='CERT_REQUIRED', ca_certs=cert_path)\n",
    "response = http.request(\"GET\", \"https://www.crummy.com/software/BeautifulSoup/bs4/doc/\")"
   ]
  },
  {
   "cell_type": "markdown",
   "metadata": {},
   "source": [
    " Transform content into formatted text:"
   ]
  },
  {
   "cell_type": "code",
   "execution_count": 4,
   "metadata": {},
   "outputs": [],
   "source": [
    "utf8_text = response.data.decode(\"utf-8\")\n",
    "#print(soup)"
   ]
  },
  {
   "cell_type": "markdown",
   "metadata": {},
   "source": [
    " Look for the version number and print it:"
   ]
  },
  {
   "cell_type": "code",
   "execution_count": 5,
   "metadata": {},
   "outputs": [
    {
     "name": "stdout",
     "output_type": "stream",
     "text": [
      "Beautiful Soup 4.12.0\n"
     ]
    }
   ],
   "source": [
    "# Search data using Regex (regular expressions)\n",
    "# Test regex http://regexr.com\n",
    "regex = \"Beautiful Soup (\\d\\.)(\\d\\d\\.)(\\d)\"  # looking for version number under the form Beautiful Soup 4.9.0\n",
    "web_text = re.search(regex, utf8_text)\n",
    "print(web_text.group(0))"
   ]
  },
  {
   "cell_type": "markdown",
   "metadata": {},
   "source": [
    "1\\. Extract only the version number from the same page.\n",
    "\n",
    "> Hint: two useful pages about regular expressions (regexp): [tutorial](https://www.lucaswillems.com/fr/articles/25/tutoriel-pour-maitriser-les-expressions-regulieres), [verifying validity of an expression](http://regexr.com)."
   ]
  },
  {
   "cell_type": "markdown",
   "metadata": {},
   "source": [
    "Your answers(s)"
   ]
  },
  {
   "cell_type": "code",
   "execution_count": 6,
   "metadata": {},
   "outputs": [
    {
     "name": "stdout",
     "output_type": "stream",
     "text": [
      "4.12.0\n"
     ]
    }
   ],
   "source": [
    "regex = \"(\\d\\.)(\\d\\d\\.)(\\d)\"\n",
    "web_text = re.search(regex, utf8_text)\n",
    "print(web_text.group(0))"
   ]
  },
  {
   "cell_type": "markdown",
   "metadata": {},
   "source": [
    "2\\. Take a look at the quickstart page of [`Beautiful Soup` (bs4 package)](https://www.crummy.com/software/BeautifulSoup/bs4/doc/), and use this library to retrieve the same information."
   ]
  },
  {
   "cell_type": "markdown",
   "metadata": {},
   "source": [
    "> Hint:\n",
    "> - [this page on Beautiful Soup](https://www.crummy.com/software/BeautifulSoup/bs4/doc/#searching-the-tree) can be useful\n",
    "> - useful elements of code:\n",
    ">\n",
    ">```python\n",
    "> from bs4 import BeautifulSoup\n",
    "> html_doc = proxy.request('GET','https://www.crummy.com/software/BeautifulSoup/bs4/doc/')\n",
    "> soup = BeautifulSoup(html_doc, 'html.parser')\n",
    "> ...\n",
    ">```"
   ]
  },
  {
   "cell_type": "markdown",
   "metadata": {},
   "source": [
    "Your answers(s)"
   ]
  },
  {
   "cell_type": "code",
   "execution_count": 7,
   "metadata": {},
   "outputs": [
    {
     "name": "stdout",
     "output_type": "stream",
     "text": [
      "4.12.0\n"
     ]
    }
   ],
   "source": [
    "if response.status == 200:\n",
    "    soup = BeautifulSoup(response.data, 'html.parser')\n",
    "else:\n",
    "    print(f\"Erreur de demande: {response.status}\")\n",
    "http.clear()\n",
    "\n",
    "x = soup.find(\"div\", class_ = \"related\")\n",
    "y = x.find(\"li\", class_ = \"nav-item nav-item-0\")\n",
    "z = y.find(\"a\").text\n",
    "\n",
    "versions = re.search(regex, z)\n",
    "print(versions.group(0))"
   ]
  },
  {
   "cell_type": "markdown",
   "metadata": {},
   "source": [
    "## <a name=\"ex2\">Exercise 2: Extracting information from Wikipedia</a> [(&#8593;)](#content)\n",
    "\n",
    "This exercise consists in extracting the birthdate of a list of actors from their Wikipedia page to infer their age. Consider for instance a list composed of Brad Pitt, Laurent Cantet, Jean-Paul Belmondo, Matthew McConaughey, Marion Cotillard, ...\n",
    "\n",
    "To this aim, take a look at one such Wikipedia page, verify whether a birthdate is reported, and take a look at the `.html` source code of the page (from your browser) to see where this information is located. \n",
    "\n",
    "First write a function to automatically retrieve the birthdate of each actor in the list. In a second step, convert this information into a \"numerical date\" (see codes below) and compute the difference with the current date to estimate the actors' age.\n",
    "\n",
    "> Hints: \n",
    "> - note that the birth date is associated whith the class `class=\"nowrap date-lien bday\"` (check source code of the web page);\n",
    "> - useful object: `bs4.BeautifulSoup`, with its `find` method, see the [documentation](https://www.crummy.com/software/BeautifulSoup/bs4/doc/);\n",
    "> - you can create an `Actor` class to collect useful attributes (see [here](https://scipy-lectures.org/intro/language/oop.html?highlight=classes) and [there](https://docs.python.org/3/tutorial/classes.html) for more details on defining classes in Python).\n",
    "> \n",
    ">```python\n",
    ">class Actor:\n",
    ">    def __init__(self, firstname, name):\n",
    ">        self.name = name\n",
    ">        self.firstname = firstname\n",
    ">    ...\n",
    ">\n",
    ">```"
   ]
  },
  {
   "cell_type": "markdown",
   "metadata": {},
   "source": [
    "> Codes: one possible way to translate words into a numerical date to compute an age is\n",
    ">```python\n",
    "># Parse data (replace month by number)\n",
    ">month = ['janvier', 'février', 'mars', 'avril', 'mai', 'juin', 'juillet', 'août', 'septembre', 'octobre', 'novembre', 'décembre']\n",
    ">month_number = ['01', '02', '03', '04', '05', '06', '07', '08', '09', '10', '11', '12']\n",
    ">\n",
    ">for i in range(0, 12):\n",
    ">    web_date = web_date.replace(month[i], month_number[i])\n",
    ">    \n",
    "># Parse data and find the date to translate it into a numerical value\n",
    ">born = datetime.strptime(web_date, '%m %Y')\n",
    ">now = date.today()\n",
    ">\n",
    "># Compute the age\n",
    ">age = now - born.date()\n",
    ">age.days / 356\n",
    ">\n",
    ">result = now.year - born.date().year - ((now.month, now.day) < (born.date().month, born.date().day))\n",
    ">```"
   ]
  },
  {
   "cell_type": "markdown",
   "metadata": {},
   "source": [
    "Your answers(s)"
   ]
  },
  {
   "cell_type": "code",
   "execution_count": 8,
   "metadata": {},
   "outputs": [],
   "source": [
    "# Classe Actor\n",
    "class Actor:\n",
    "    # Initialisation de l'objet Actor avec des paramètres optionnels\n",
    "    def __init__(self, firstname, name, sex=\"F\", birthdate=\"\"):\n",
    "        self.name = name\n",
    "        self.firstname = firstname\n",
    "        self.sex = sex\n",
    "        self.URL = \"https://fr.wikipedia.org/wiki/\" + firstname + \"_\" + name\n",
    "        self.birthdate = birthdate\n",
    "        # Appel de la méthode request pour récupérer la date de naissance depuis Wikipedia\n",
    "        self.request()\n",
    "\n",
    "    # Méthode pour calculer l'âge de l'acteur en fonction de sa date de naissance\n",
    "    def calculate_age(self):\n",
    "        today = datetime.today()\n",
    "        age = today.year - self.birthdate.year - ((today.month, today.day) < (self.birthdate.month, self.birthdate.day))\n",
    "        return age\n",
    "\n",
    "    # Méthode pour définir la date de naissance de l'acteur à partir d'une chaîne de caractères\n",
    "    def set_birthdate(self, birthdate):\n",
    "        self.birthdate = datetime.strptime(birthdate, '%Y-%m-%d')\n",
    "        self.age = self.calculate_age()\n",
    "\n",
    "    # Méthode pour afficher la description de l'acteur\n",
    "    def description(self):\n",
    "        month = ['janvier', 'février', 'mars', 'avril', 'mai', 'juin', 'juillet', 'août', 'septembre', 'octobre', 'novembre', 'décembre']\n",
    "        acteur = \"acteur\" if self.sex == \"H\" else \"actrice\"\n",
    "        e = \"\" if self.sex == \"H\" else \"e\"\n",
    "        if self.birthdate != \"\":\n",
    "            print(f\"L'{acteur} {self.firstname} {self.name} est né{e} le {self.birthdate.day} {month[self.birthdate.month-1]} {self.birthdate.year} et a aujourd'hui {self.age} ans.\")\n",
    "        else:\n",
    "            print(f\"L'{acteur} {self.firstname} {self.name} n'a pas été trouvé{e} sur Wikipédia.\")\n",
    "\n",
    "    # Méthode pour effectuer la requête HTTP et extraire la date de naissance depuis la page Wikipedia\n",
    "    def request(self):\n",
    "        response = http.request(\"GET\", self.URL)\n",
    "        x = None\n",
    "        soup = None\n",
    "        if response.status == 200:\n",
    "            soup = BeautifulSoup(response.data, 'html.parser')\n",
    "            # Recherche de la balise 'time' avec la classe 'nowrap date-lien bday'\n",
    "            x = soup.find(\"time\", class_=\"nowrap date-lien bday\")\n",
    "            if x is None:\n",
    "                # Si la balise n'est pas trouvée, recherche avec la classe 'nowrap date-lien'\n",
    "                x = soup.find(\"time\", class_=\"nowrap date-lien\")\n",
    "            # Appel de la méthode set_birthdate pour définir la date de naissance\n",
    "        if x != None:\n",
    "            self.set_birthdate(x['datetime'])\n"
   ]
  },
  {
   "cell_type": "code",
   "execution_count": 9,
   "metadata": {},
   "outputs": [
    {
     "name": "stdout",
     "output_type": "stream",
     "text": [
      "L'acteur Brad Pitt est né le 18 décembre 1963 et a aujourd'hui 59 ans.\n",
      "L'acteur Laurent Cantet est né le 11 avril 1961 et a aujourd'hui 62 ans.\n",
      "L'acteur Jean-Paul Belmondo est né le 9 avril 1933 et a aujourd'hui 90 ans.\n",
      "L'acteur Matthew McConaughey est né le 4 novembre 1969 et a aujourd'hui 53 ans.\n",
      "L'actrice Marion Cotillard est née le 30 septembre 1975 et a aujourd'hui 48 ans.\n",
      "L'acteur Benjamin Renoux n'a pas été trouvé sur Wikipédia.\n",
      "L'acteur Jean Dujardin est né le 19 juin 1972 et a aujourd'hui 51 ans.\n",
      "L'acteur Bradley Cooper est né le 5 janvier 1975 et a aujourd'hui 48 ans.\n",
      "L'acteur Pierre Chainais n'a pas été trouvé sur Wikipédia.\n",
      "L'acteur Tom Cruise est né le 3 juillet 1962 et a aujourd'hui 61 ans.\n",
      "L'actrice Céline Fasulo n'a pas été trouvée sur Wikipédia.\n",
      "L'actrice Jane Birkin est née le 14 décembre 1946 et a aujourd'hui 76 ans.\n",
      "L'acteur Ian Somerhalder est né le 8 décembre 1978 et a aujourd'hui 44 ans.\n"
     ]
    }
   ],
   "source": [
    "# Liste d'objets Actor représentant différents acteurs\n",
    "Actors = [Actor(\"Brad\", \"Pitt\", \"H\"),\n",
    "          Actor(\"Laurent\", \"Cantet\", \"H\"), \n",
    "          Actor(\"Jean-Paul\", \"Belmondo\", \"H\"), \n",
    "          Actor(\"Matthew\", \"McConaughey\", \"H\"), \n",
    "          Actor(\"Marion\", \"Cotillard\"), \n",
    "          Actor(\"Benjamin\", \"Renoux\", \"H\"), \n",
    "          Actor(\"Jean\", \"Dujardin\", \"H\"), \n",
    "          Actor(\"Bradley\", \"Cooper\", \"H\"), \n",
    "          Actor(\"Pierre\", \"Chainais\", \"H\"),\n",
    "          Actor(\"Tom\", \"Cruise\", \"H\"),\n",
    "          Actor(\"Céline\", \"Fasulo\"),\n",
    "          Actor(\"Jane\", \"Birkin\"),\n",
    "          Actor(\"Ian\", \"Somerhalder\", \"H\")]\n",
    "\n",
    "# Affichage de la description de chaque acteur dans la liste\n",
    "for actor in Actors:\n",
    "    actor.description()"
   ]
  }
 ],
 "metadata": {
  "file_extension": ".py",
  "kernelspec": {
   "display_name": "Python 3.8.10 64-bit",
   "language": "python",
   "name": "python3"
  },
  "language_info": {
   "codemirror_mode": {
    "name": "ipython",
    "version": 3
   },
   "file_extension": ".py",
   "mimetype": "text/x-python",
   "name": "python",
   "nbconvert_exporter": "python",
   "pygments_lexer": "ipython3",
   "version": "3.10.0"
  },
  "mimetype": "text/x-python",
  "name": "python",
  "npconvert_exporter": "python",
  "pygments_lexer": "ipython3",
  "version": 3,
  "vscode": {
   "interpreter": {
    "hash": "916dbcbb3f70747c44a77c7bcd40155683ae19c65e1c03b4aa3499c5328201f1"
   }
  }
 },
 "nbformat": 4,
 "nbformat_minor": 4
}
