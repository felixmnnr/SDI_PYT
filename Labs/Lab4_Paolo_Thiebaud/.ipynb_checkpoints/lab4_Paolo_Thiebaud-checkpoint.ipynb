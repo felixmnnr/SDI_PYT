{
 "cells": [
  {
   "cell_type": "markdown",
   "metadata": {},
   "source": [
    "# Practical session 4 - K-nearest neighbours (K-NN) classification with numpy, scikit-learn, cython and numba\n",
    "\n",
    "Students (pair):\n",
    "- Matthieu Paolo([link](https://github.com/username1))\n",
    "- Luc Thiebaud([link](https://github.com/username2))"
   ]
  },
  {
   "cell_type": "markdown",
   "metadata": {},
   "source": [
    "**Useful references for this lab**:\n",
    "\n",
    "[1] scikit-learn: [documentation](https://scikit-learn.org/stable/modules/neighbors.html?highlight=knn%20classification)\n",
    "\n",
    "[2] `numba`: [documentation](http://numba.pydata.org/) \n",
    "\n",
    "[3] cython: [a very useful tutorial](https://cython.readthedocs.io/en/latest/src/userguide/numpy_tutorial.html#numpy-tutorial), and [another one](http://docs.cython.org/en/latest/src/tutorial/cython_tutorial.html)\n",
    "\n",
    "\n",
    "\n",
    "## <a name=\"content\">Contents</a>\n",
    "- [Exercise 1: KNN classification with numpy and sklearn](#ex1)\n",
    "- [Exercise 2: Code acceleration with cython](#ex2)\n",
    "- [Exercise 3: Code acceleration with numba](#ex3)\n",
    "---"
   ]
  },
  {
   "cell_type": "code",
   "execution_count": 6,
   "metadata": {},
   "outputs": [
    {
     "name": "stdout",
     "output_type": "stream",
     "text": [
      "The autoreload extension is already loaded. To reload it, use:\n",
      "  %reload_ext autoreload\n"
     ]
    }
   ],
   "source": [
    "%load_ext autoreload\n",
    "%autoreload 2\n",
    "\n",
    "import numpy as np\n",
    "import sklearn\n",
    "import pandas as pd # j'importe pandas pour visualiser des données plus facilement quand j'en ai besoin\n",
    "import matplotlib.pyplot as plt\n",
    "import bottleneck as bn\n",
    "from sklearn.neighbors import KNeighborsClassifier\n",
    "import timeit\n",
    "from sklearn.model_selection import train_test_split\n",
    "from sklearn.metrics import accuracy_score"
   ]
  },
  {
   "cell_type": "markdown",
   "metadata": {},
   "source": [
    "## <a name=\"ex1\">Exercise 1: K-Nearest Neighbours (K-NN) classification with numpy and scikit-learn</a> [(&#8593;)](#content)"
   ]
  },
  {
   "cell_type": "markdown",
   "metadata": {},
   "source": [
    "This session is a first introduction to classification using the most intuitive non parametric method: the $K$-nearest neighbours. The principle is [the following](https://scikit-learn.org/stable/modules/neighbors.html?highlight=knn%20classification). A set of labelled observations is given as a learning set. A classification taks then consists in assigning a label to any new observation. In particular, the K-NN approach consists in assigning to the observation the most frequent label among its $K$ nearest neighbours taken in the training set."
   ]
  },
  {
   "cell_type": "markdown",
   "metadata": {},
   "source": [
    "### A. Validation on synthetic data\n",
    "\n",
    "Load the training and test datasets `data/synth_train.txt` and `data/synth_test.txt`. Targets belong to the set $\\{1,2\\}$ and entries belong to $\\mathbb{R}^2$. The file `data/synth_train.txt` contain 100 training data samples, and `data/synth_test.txt` contains 200 test samples, where:\n",
    "\n",
    "- the 1st column contains the label of the class the sample;\n",
    "- columns 2 & 3 contain the coordinates of each sample (in $\\mathbb{R}^2$).\n",
    "\n",
    "Useful commands can be found below."
   ]
  },
  {
   "cell_type": "markdown",
   "metadata": {},
   "source": [
    "```python\n",
    "# load the training set\n",
    "train = np.loadtxt('data/synth_train.txt')  #...,delimiter=',') if there are ',' as delimiters\n",
    "class_train = train[:,0]\n",
    "x_train = train[:,1:]\n",
    "N_train = train.shape[0]\n",
    "```"
   ]
  },
  {
   "cell_type": "markdown",
   "metadata": {},
   "source": [
    "```python\n",
    "# load the test set\n",
    "test = np.loadtxt('/datasynth_test.txt') \n",
    "class_test_1 = test[test[:,0]==1]\n",
    "class_test_2 = test[test[:,0]==2]\n",
    "x_test = test[:,1:]\n",
    "N_test = test.shape[0]\n",
    "```"
   ]
  },
  {
   "cell_type": "markdown",
   "metadata": {},
   "source": [
    "1\\. Display the training set and distinguish the two classes. \n",
    "\n",
    "> Hint: useful functions include `matplotlib.pyplot.scatter` or `matplotlib.pyplot.plot`."
   ]
  },
  {
   "cell_type": "markdown",
   "metadata": {},
   "source": [
    "**Answer:**"
   ]
  },
  {
   "cell_type": "code",
   "execution_count": 7,
   "metadata": {},
   "outputs": [
    {
     "data": {
      "text/plain": [
       "True"
      ]
     },
     "execution_count": 7,
     "metadata": {},
     "output_type": "execute_result"
    },
    {
     "data": {
      "image/png": "[encoded data removed]",
      "text/plain": [
       "<Figure size 640x480 with 1 Axes>"
      ]
     },
     "metadata": {},
     "output_type": "display_data"
    }
   ],
   "source": [
    "# your code\n",
    "\n",
    "# load the training set\n",
    "train = np.loadtxt(\"C:/Users/lthiebau/Documents/Lab4_1/data/synth_train.txt\")\n",
    "class_train = train[:,0]\n",
    "x_train = train[:,1:]\n",
    "N_train = train.shape[0]\n",
    "\n",
    "# load the test set\n",
    "test = np.loadtxt(\"C:/Users/lthiebau/Documents/Lab4_1/data/synth_test.txt\") \n",
    "class_test_1 = test[test[:,0]==1]\n",
    "class_test_2 = test[test[:,0]==2]\n",
    "x_test = test[:,1:]\n",
    "N_test = test.shape[0]\n",
    "\n",
    "# je crée deux listes vides à laquelle je vais ajouter les vecteurs (colonne) de x_train pour lesquels la clas vaut 1 (resp. 2)\n",
    "x_train1 = []\n",
    "x_train2 = []\n",
    "\n",
    "# je parcours x_train et class_train\n",
    "for i in range(N_train) :\n",
    "    if class_train[i] == 1 : # si la target, vaut 1, j'ajoute le tuple à x_train1\n",
    "        x_train1.append(x_train[i])\n",
    "    else : # sinon la target vaut 2, j'ajoute le tuple à x_train2\n",
    "        x_train2.append(x_train[i])\n",
    "        \n",
    "# je transforme ces deux \"listes de listes\" en matrice à 2 colonnes\n",
    "x_train1 = np.array(x_train1)\n",
    "x_train2 = np.array(x_train2)\n",
    "\n",
    "# les éléments du training set dont la target est 1 sont affichés en rouge, ceux dont la target est 2 sont affichés en bleu\n",
    "plt.scatter(x_train1[:,0], x_train1[:,1], c = 'red', label = '1')\n",
    "plt.scatter(x_train2[:,0], x_train2[:,1], c = 'blue', label = '2')\n",
    "plt.title('scatter plot')\n",
    "plt.xlabel('feature 1')\n",
    "plt.ylabel('feature 2')\n",
    "plt.legend()\n",
    "\n",
    "# test pour vérifier que l'on a pas oublié d'éléments\n",
    "x_train.shape[0] == x_train1.shape[0] + x_train2.shape[0]"
   ]
  },
  {
   "cell_type": "markdown",
   "metadata": {},
   "source": [
    "2\\. Implement the K-nearest neighbours algorithm for classification.\n",
    "\n",
    "> Hint: \n",
    "> - useful functions include `numpy.linalg.norm`, `numpy.argsort`, `numpy.bincount`;\n",
    "> - implement the algorithm as a function rather than an object. This will drastically simplify the acceleration step using Cython.\n",
    "> - for an optimized partial sorting procedure, you may have a look at the [`bottleneck.argpartition` function](https://bottleneck.readthedocs.io/en/latest/reference.html#bottleneck.argpartition).\n",
    "> 1. Compute for each row in `x_test` (if necessary use `np.newaxis`) its distance with respect to `x_train`:\n",
    ">  - Use  `numpy.linalg.norm` (in which dimension this distance is computed ? Consider using `axis` argument)\n",
    "> 2. Sort the ordered collection of distances (indices from smallest to largest (in ascending order) by the distances):\n",
    ">   - Use `np.argsort` (at the end replace this procedure by `bottleneck.argpartition`)\n",
    ">   - Once the sorting is done, we take only the indices of `labels` of the `n_neighbours` nearest neighbours of the `class_train` :\n",
    ">     - `id = np.argsort(distances)[:n_ neighbours]` and `labels = class_train[id]`\n",
    "> 3. The K-nearest can be used for **Regression**, in this case it is necessary to return the mean of the K-labels. For **Classification**,  we return the mode of the K-labels :\n",
    "> - Use `np.bincount` for `labels` to affect the variable `class_pred[q]` (for row `q`). This procedure counts the number of occurrences of each value in array. **Mode** is the value that appears. How can we get this value ?\n"
   ]
  },
  {
   "cell_type": "markdown",
   "metadata": {},
   "source": [
    "**Answer:**"
   ]
  },
  {
   "cell_type": "code",
   "execution_count": 8,
   "metadata": {},
   "outputs": [],
   "source": [
    "# your code\n",
    "\n",
    "def kNN(x_train, x_test, n_neighbours, class_train) :\n",
    "    \n",
    "    r\"\"\" \n",
    "    Arguments : deux matrices x_train et x_test (à 2 colonnes), n_neighbours le nombre de n plus proches voisins, le vecteur class_train de même taille que le nombre de lignes de x_train\n",
    "    Return : un vecteur contenant les prédictions des targets pour x_test\n",
    "    \n",
    "    \"\"\"\n",
    "    # 1. je vais créer une matrice de taille x_test.shape[0], x_train.shape[0] où l'élément d'indice i,j correspond à la distance entre i-ème vecteur (de taille 2) de x_test et le j-ème vecteur de x_train\n",
    "    mat_distance = np.zeros((x_test.shape[0], x_train.shape[0]))\n",
    "    \n",
    "    # boucle for pour parcourir les lignes de x_test\n",
    "    for i in range(x_test.shape[0]) :\n",
    "        \n",
    "        # boucle for pour parcourir les lignes de x_train\n",
    "        for j in range(x_train.shape[0]) :\n",
    "            mat_distance[i][j] = np.linalg.norm(x_test[i] - x_train[j], axis = 0) # calcule de la distance en norme 2\n",
    "            \n",
    "    # 2. je crée une nouvelle matrice ordered_distance dont la ligne i correspond au classement dans l'ordre croissant des distances entre le i-ème vecteur de x_test et les x_train (NB : on retourne l'indice et non la valeur de la distance quadratique)\n",
    "    \n",
    "    ordered_distance = np.argsort(mat_distance, axis = 1)\n",
    "    \n",
    "    # NB : si la ligne 0 de ordered_distance est [86 , 20, 47, ...] cela signifie que x_test[0] est le plus proche de x_train[86], puis de x_train[20], etc...\n",
    "    # je pense que j'utilise une autre méthode que ce qui est demandé dans l'énoncé mais je ne comprend pas bien les indications de l'énoncé\n",
    "    \n",
    "    # je crée ensuite une matrice id de taille x_test.shape[0], n_neighbours qui est enfaite une sous-matrice de ordered_distance, où l'on garde seulement les n_neighbours premières lignes\n",
    "    \n",
    "    id = ordered_distance[:, :n_neighbours]\n",
    "    \n",
    "    # je créer ensuite ma matrice labels qui est une matrice de même taille que id mais je remplace l'indice de x_train (ou class_train) par son label (i.e si x_train[i] est de label 1, je remplace par 1)\n",
    "    \n",
    "    labels = np.zeros((id.shape[0], id.shape[1]))\n",
    "    \n",
    "    # boucle pour balayer les lignes :\n",
    "    for i in range(id.shape[0]) :\n",
    "        # boucle pour balayer les n_neighbours :\n",
    "        for j in range(id.shape[1]) :\n",
    "            label_indice = id[i][j]\n",
    "            labels[i][j] = class_train[label_indice]\n",
    "    \n",
    "    # après cette étape on a une matrice de taille nb d'éléments de x_test , n_neighbours, où chaque ligne i correspond au label des n_neighbours les plus proches de l'élément i de x_test\n",
    "    \n",
    "    # 3. \n",
    "    labels = labels.astype(int) # convertit la matrice de float en int pour utiliser np.bincount\n",
    "    \n",
    "    # je crée une boucle for pour balayer chaque ligne de labels et assigner le label le plus fréquent pour chaque ligne i dans une nouvelle matrice class_pred\n",
    "\n",
    "    class_pred = np.zeros((labels.shape[0]), dtype=int) \n",
    "    \n",
    "    for i in range(labels.shape[0]) :\n",
    "        \n",
    "        class_pred[i] = np.bincount(labels[i]).argmax() # sélectionne l'élément le plus fréquent pour chaque ligne\n",
    "    \n",
    "    # class_pred est le vecteur des labels des x_test (où le label est celui des n_neighbours plus proches voisins pour chaque élément)\n",
    "    class_pred = class_pred.astype(float)\n",
    "    \n",
    "    return class_pred\n",
    "    "
   ]
  },
  {
   "cell_type": "markdown",
   "metadata": {},
   "source": [
    "3\\. Compute the error rate on the training set and the test set for $K \\in \\{1,2, \\dotsc, 20\\}$. Display the classification result (see 1.) for the configuration with the lowest error rate."
   ]
  },
  {
   "cell_type": "markdown",
   "metadata": {},
   "source": [
    "**Answer:**"
   ]
  },
  {
   "cell_type": "code",
   "execution_count": 9,
   "metadata": {},
   "outputs": [
    {
     "name": "stdout",
     "output_type": "stream",
     "text": [
      "[0.065 0.06  0.045 0.05  0.06  0.055 0.07  0.07  0.075 0.075 0.09  0.075\n",
      " 0.08  0.075 0.075 0.075 0.08  0.08  0.08  0.08 ]\n"
     ]
    }
   ],
   "source": [
    "# your code\n",
    "\n",
    "# je crée un vecteur erreur de taille 20 dans lequel je vais afficher à la ligne i l'erreur pour n_neighbours = i\n",
    "error = np.zeros((20))\n",
    "\n",
    "# boucle for pour parcourir le nombre de n_neighbours (de 1 à 20)\n",
    "for k in range(1, 21) :\n",
    "    class_pred = kNN(x_train, x_test, k, class_train) # on entraine x_test avec x_train\n",
    "    class_test = test[:,0] # contient les labes du test class\n",
    "    error[k-1] = 1 - np.count_nonzero(class_pred == class_test) / class_pred.shape[0] # par définition erreur = 1 - nb cas correct / nb cas total (ie 1 - accuracy)\n",
    "\n",
    "print(error)\n"
   ]
  },
  {
   "cell_type": "markdown",
   "metadata": {},
   "source": [
    "4\\. Comment on your results. Which value of $K$ seems optimal ?\n"
   ]
  },
  {
   "cell_type": "markdown",
   "metadata": {},
   "source": [
    "**Answer:**"
   ]
  },
  {
   "cell_type": "code",
   "execution_count": 10,
   "metadata": {},
   "outputs": [
    {
     "name": "stdout",
     "output_type": "stream",
     "text": [
      "K_optimal = 3 minimise l'erreur\n",
      "Pour cette valeur de K, l'erreur est de moins de 5% ce qui est plutôt bon.\n",
      "L'erreur demeure en dessous de 10% pour K variant entre 1 et 20\n"
     ]
    }
   ],
   "source": [
    "# your code\n",
    "\n",
    "K_optimal = np.argmin(error) + 1\n",
    "print(\"K_optimal =\", K_optimal, \"minimise l'erreur\")\n",
    "print(\"Pour cette valeur de K, l'erreur est de moins de 5% ce qui est plutôt bon.\\nL'erreur demeure en dessous de 10% pour K variant entre 1 et 20\")"
   ]
  },
  {
   "cell_type": "markdown",
   "metadata": {},
   "source": [
    "5\\. Compare the results of you implementation with those of [`sklearn.neighbors.KNeighborsClassifier`](https://scikit-learn.org/stable/modules/generated/sklearn.neighbors.KNeighborsClassifier.html?highlight=kneighborsclassifier#sklearn.neighbors.KNeighborsClassifier). Compare the runtime of these two versions using the [`timeit`](https://docs.python.org/3/library/timeit.html) module (see session 1)."
   ]
  },
  {
   "cell_type": "markdown",
   "metadata": {},
   "source": [
    "**Answer:**"
   ]
  },
  {
   "cell_type": "code",
   "execution_count": 11,
   "metadata": {},
   "outputs": [
    {
     "name": "stdout",
     "output_type": "stream",
     "text": [
      "True\n",
      "On obtient les mêmes résultats avec la fonction définie ci-dessus qu'avec sklearn, ce qui est une bonne nouvelle\n"
     ]
    }
   ],
   "source": [
    "# your code\n",
    "\n",
    "# même chose que précédemment,\n",
    "error_sk = np.zeros((20))\n",
    "for k in range(1, 21) :\n",
    "    neigh = KNeighborsClassifier(n_neighbors=k)\n",
    "    neigh.fit(x_train, class_train)\n",
    "    class_pred = neigh.predict(x_test)\n",
    "    class_test = test[:,0]\n",
    "    error_sk[k-1] = 1 - np.count_nonzero(class_pred == class_test) / class_pred.shape[0]\n",
    "\n",
    "\n",
    "print(error_sk.all() == error.all())\n",
    "print(\"On obtient les mêmes résultats avec la fonction définie ci-dessus qu'avec sklearn, ce qui est une bonne nouvelle\")"
   ]
  },
  {
   "cell_type": "code",
   "execution_count": 12,
   "metadata": {},
   "outputs": [
    {
     "name": "stdout",
     "output_type": "stream",
     "text": [
      "temps d'éxécution sklearn : 0.0006174000000100932 \n",
      "temps d'éxécution fonction : 0.11356369999975868\n",
      "\n",
      "utiliser sklearn diminue le temps d'éxécution d'un facteur 100, ce qui est énorme pour la même tâche\n",
      "ma fonction n'est toutefois pas optimale avec ses nombreuses boucles for\n"
     ]
    }
   ],
   "source": [
    "knn = KNeighborsClassifier(n_neighbors=K_optimal)\n",
    "\n",
    "def entrainement_sk():\n",
    "    knn.fit(x_train, class_train)\n",
    "\n",
    "\n",
    "def entrainement_fonction() :\n",
    "    kNN(x_train, x_test, K_optimal, class_train)\n",
    "    \n",
    "temps_sk = timeit.timeit(entrainement_sk, number=1)\n",
    "temps_fonction = timeit.timeit(entrainement_fonction, number=1)\n",
    "\n",
    "print(\"temps d'éxécution sklearn :\", temps_sk,\"\\ntemps d'éxécution fonction :\", temps_fonction)\n",
    "print(\"\\nutiliser sklearn diminue le temps d'éxécution d'un facteur 100, ce qui est énorme pour la même tâche\\nma fonction n'est toutefois pas optimale avec ses nombreuses boucles for\")"
   ]
  },
  {
   "cell_type": "markdown",
   "metadata": {},
   "source": [
    "### B. Application to a real dataset (Breast cancer Wisconsin).\n",
    "\n",
    "6\\. Apply the K-NN classifier to the real dataset `data/wdbc12.data.txt.` Further details about the data are provided in `data/wdbc12.names.txt`.\n",
    "\n",
    "> Hint: you can use the function [`train_test_split` from `sklearn.model_selection`](https://scikit-learn.org/stable/modules/generated/sklearn.model_selection.train_test_split.html) to split the dataset into a training and a test set."
   ]
  },
  {
   "cell_type": "markdown",
   "metadata": {},
   "source": [
    "**Answer:**"
   ]
  },
  {
   "cell_type": "code",
   "execution_count": 9,
   "metadata": {},
   "outputs": [
    {
     "name": "stdout",
     "output_type": "stream",
     "text": [
      "error =  0.06293706293706292 \n",
      "l'erreur est de moins de 10 %\n"
     ]
    }
   ],
   "source": [
    "# your code\n",
    "\n",
    "data = np.loadtxt(\"C:/Users/lthiebau/Documents/Lab4_1/data/wdbc12.data.txt\", delimiter=',')\n",
    "\n",
    "# la première colonne contient l'ID du patient, la seconde les targets et les 30 autres les features\n",
    "X = data[:,2:] # les 30 dernières colonnes\n",
    "y = data[:,1] # le vecteur target\n",
    "\n",
    "# on considère 1 quart du datataset dans le test set et 3 quart dans le training set\n",
    "X_train, X_test, y_train, y_test = train_test_split(X, y, test_size=0.25)\n",
    "\n",
    "# création du modèle, je choisis arbitrairement k = 5 après quelques essais, ça donne des bons résultats (on pourrait faire une boucle for pour faire varier k mais ce n'est pas l'objectif de cette partie)\n",
    "knn = KNeighborsClassifier(n_neighbors=5)\n",
    "\n",
    "# entrainement \n",
    "knn.fit(X_train, y_train) \n",
    "\n",
    "# prédiction \n",
    "y_pred = knn.predict(X_test)\n",
    "\n",
    "# évaluation de la précision du modèle\n",
    "error_score = 1 - accuracy_score(y_test, y_pred) # j'utilise une métrique error_score comme dans la partie précédente\n",
    "\n",
    "print(\"error = \", error_score,\"\\nl'erreur est de moins de 10 %\")"
   ]
  },
  {
   "cell_type": "markdown",
   "metadata": {},
   "source": [
    "## <a name=\"ex2\">Exercise 2: Code acceleration with cython</a> [(&#8593;)](#content)\n",
    "\n",
    "Cython allows C code to be easily interfaced with Python. It can be useful to make your code faster for a small coding effort, in particular when using loops. A general approach to optimize your code is outlined in the [Scipy lecture notes, Section 2.4](https://scipy-lectures.org/advanced/optimizing/index.html). Complementary reading about interfacing Python with C can be found in [Section 2.8](https://scipy-lectures.org/advanced/interfacing_with_c/interfacing_with_c.html).\n",
    "\n",
    "1\\. Read carefully the [cython tutorial](http://docs.cython.org/en/latest/src/tutorial/cython_tutorial.html), which describes step by the step how the toy example reported below has been developed."
   ]
  },
  {
   "cell_type": "markdown",
   "metadata": {},
   "source": [
    "**Setup**: Compile the toy example provided in `example_cy/` by running, in the command line (anaconda prompt on windows)"
   ]
  },
  {
   "cell_type": "markdown",
   "metadata": {},
   "source": [
    "```bash\n",
    "cd example_cy && python setup.py build_ext --inplace\n",
    "```"
   ]
  },
  {
   "cell_type": "markdown",
   "metadata": {},
   "source": [
    "Note that the compilation process has been slightly automatised with the instructions reported in `example_cy/setup.py`. To test the module, run"
   ]
  },
  {
   "cell_type": "code",
   "execution_count": 10,
   "metadata": {},
   "outputs": [
    {
     "name": "stdout",
     "output_type": "stream",
     "text": [
      "Compiling helloworld.pyx because it changed.\n",
      "Compiling primes.pyx because it changed.\n",
      "[1/2] Cythonizing helloworld.pyx\n",
      "[2/2] Cythonizing primes.pyx\n"
     ]
    }
   ],
   "source": [
    "!cd example_cy && python setup.py build_ext --inplace"
   ]
  },
  {
   "cell_type": "code",
   "execution_count": 11,
   "metadata": {},
   "outputs": [
    {
     "name": "stdout",
     "output_type": "stream",
     "text": [
      "Hello World\n"
     ]
    }
   ],
   "source": [
    "import example_cy.helloworld as toy\n",
    "\n",
    "toy.printhello()"
   ]
  },
  {
   "cell_type": "markdown",
   "metadata": {},
   "source": [
    "which should display\n",
    "```python\n",
    "Hello World\n",
    "```"
   ]
  },
  {
   "cell_type": "markdown",
   "metadata": {},
   "source": [
    "> Warning: \n",
    "> - do not forget to include an empty `__init__.py` file in the directory where your source code lives (`import` will fail if this is not the case).\n",
    "> - in case you have any setup issue, take a look at the `notes.md` file.\n",
    "> - if the C code and/or the executable do not seem to be regenerated by the build instructions, delete the C code and the executable first, and re-execute the compilation afterwards.\n",
    "> - do not hesitate to restart the Python kernel if necessary when the Cython executable has been re-generated."
   ]
  },
  {
   "cell_type": "markdown",
   "metadata": {},
   "source": [
    "2\\. Read the [Numpy/Cython tutorial](https://cython.readthedocs.io/en/latest/src/userguide/numpy_tutorial.html#numpy-tutorial), focussing on the paragraphs **Cython at a glance**, and **Your Cython environment** until **\"More generic code\"**. An example to compile a `.pyx` file depending on `numpy` is included in `example_np_cy/`."
   ]
  },
  {
   "cell_type": "markdown",
   "metadata": {},
   "source": [
    "> Remarks: \n",
    "> - the `annotate=True` flag in the `setup.py` allows an additional `.html` document to be generated (`<your_module_name>.html`), showing, for each line of the Cython code, the associated C instructions generated. Highlighted in yellow are the interactions with Python: the darker a region appears, the less efficient the generated C code is for this section. Work in priority on these! \n",
    "> - make sure all the previously generated files are deleted to allow the .html report to be generated;\n",
    "> - if you are working on your own machine and don't have a C/C++ compiler installed, read the notes provided in `notes.md`;\n",
    "> - use `cdef` for pure C functions (not exported to Python), `cpdef` should be favored for functions containing C instructions and later called from Python."
   ]
  },
  {
   "cell_type": "markdown",
   "metadata": {},
   "source": [
    "**Answer:**"
   ]
  },
  {
   "cell_type": "code",
   "execution_count": 12,
   "metadata": {},
   "outputs": [
    {
     "name": "stdout",
     "output_type": "stream",
     "text": [
      "Compiling compute_cy.pyx because it changed.\n",
      "[1/1] Cythonizing compute_cy.pyx\n"
     ]
    }
   ],
   "source": [
    "# your code\n",
    "!cd example_np_cy && python setup.py build_ext --inplace"
   ]
  },
  {
   "cell_type": "code",
   "execution_count": 4,
   "metadata": {},
   "outputs": [
    {
     "data": {
      "text/plain": [
       "array([[31, 31]], dtype=int32)"
      ]
     },
     "execution_count": 4,
     "metadata": {},
     "output_type": "execute_result"
    }
   ],
   "source": [
    "import example_np_cy.compute_cy as toy\n",
    "toy.compute(np.array([[2,2]]), np.array([[2,2]]), 8, 6, 3)"
   ]
  },
  {
   "cell_type": "markdown",
   "metadata": {},
   "source": [
    "3\\. Use Cython to implement a faster version of the numpy K-NN classifier implemented in [Exercise 1](#ex1). To do so, apply step-by-step the techniques introduced in the [Numpy/Cython tutorial](https://cython.readthedocs.io/en/latest/src/userguide/numpy_tutorial.html#numpy-tutorial) (*i.e.*, compile and time your code after each step to report the evolution, keeping track of the different versions of the cython function).\n",
    "\n",
    "> Hint: if you keep numpy arrays, make sure you use memory views (see numpy/cython tutorial) to access the elements within it. Be extremely careful with the type of the input arrays (you may need to recast the format of the input elements before entering the function. The `numpy.asarray` function can prove useful).\n",
    "\n",
    "> **Detailed guidelines**: a few notes and *caveat* to help you re-writing your code in cython:\n",
    "> - try to reduce the number of calls to numpy instructions as much as possible;\n",
    "> - **you do not have to optimize everything**. For the KNN function above, most of the time is spent in computing euclidean distances: you can thus focus on optimizing tihs operations by explicitly writing a for loop, which will ensure a minimal interaction with numpy when generating the associated C code at compilation. Calls to other numpy functions can be kept as-is;\n",
    "> - if you need to create an array within the cython function, used np.zeros (**do NOT use python lists**), and use a memory view to access its content;\n",
    "> - specify the type for all variables and numpy arrays. Pay attention to the type of the input arrays passed to the Cython function;\n",
    "> - whenever an array is returned, use memory views and index(es) to efficiently access its content;\n",
    "> - some numpy operators (e.g., broadcasting mechanism) do not work with memory views. In this case, you can directly write for loop(s) to encode the operation of interest (the loops will be optimized out at compile time);\n",
    "> - only use at the final development stage the following cython optimization (not before, as they can crash the program without any help):\n",
    ">\n",
    ">```python\n",
    ">@cython.boundscheck(False)\n",
    ">@cython.wraparound(False)\n",
    ">```"
   ]
  },
  {
   "cell_type": "markdown",
   "metadata": {},
   "source": [
    "**Answer:**"
   ]
  },
  {
   "cell_type": "code",
   "execution_count": 14,
   "metadata": {},
   "outputs": [
    {
     "name": "stdout",
     "output_type": "stream",
     "text": [
      "Compiling knn.pyx because it changed.\n",
      "[1/1] Cythonizing knn.pyx\n",
      "running build_ext\n",
      "building 'knn' extension\n",
      "creating build\n",
      "creating build\\temp.win-amd64-cpython-310\n",
      "creating build\\temp.win-amd64-cpython-310\\Release\n",
      "gcc -mdll -O -Wall -DMS_WIN64=1 -IC:\\Apps\\Anaconda3\\lib\\site-packages\\numpy\\core\\include -IC:\\Apps\\Anaconda3\\include -IC:\\Apps\\Anaconda3\\Include -c knn.c -o build\\temp.win-amd64-cpython-310\\Release\\knn.o\n",
      "writing build\\temp.win-amd64-cpython-310\\Release\\knn.cp310-win_amd64.def\n",
      "creating build\\lib.win-amd64-cpython-310\n",
      "gcc -shared -s build\\temp.win-amd64-cpython-310\\Release\\knn.o build\\temp.win-amd64-cpython-310\\Release\\knn.cp310-win_amd64.def -LC:\\Apps\\Anaconda3\\libs -LC:\\Apps\\Anaconda3 -LC:\\Apps\\Anaconda3\\PCbuild\\amd64 -lpython310 -lvcruntime140 -o build\\lib.win-amd64-cpython-310\\knn.cp310-win_amd64.pyd\n",
      "copying build\\lib.win-amd64-cpython-310\\knn.cp310-win_amd64.pyd -> \n"
     ]
    },
    {
     "name": "stderr",
     "output_type": "stream",
     "text": [
      "C:\\Apps\\Anaconda3\\lib\\site-packages\\Cython\\Compiler\\Main.py:369: FutureWarning: Cython directive 'language_level' not set, using 2 for now (Py2). This will change in a later release! File: C:\\Users\\lthiebau\\Documents\\Lab4_1\\knn_cython\\knn.pyx\n",
      "  tree = Parsing.p_module(s, pxd, full_module_name)\n",
      "In file included from C:\\Apps\\Anaconda3\\lib\\site-packages\\numpy\\core\\include/numpy/ndarraytypes.h:1940:0,\n",
      "                 from C:\\Apps\\Anaconda3\\lib\\site-packages\\numpy\\core\\include/numpy/ndarrayobject.h:12,\n",
      "                 from C:\\Apps\\Anaconda3\\lib\\site-packages\\numpy\\core\\include/numpy/arrayobject.h:5,\n",
      "                 from knn.c:763:\n",
      "C:\\Apps\\Anaconda3\\lib\\site-packages\\numpy\\core\\include/numpy/npy_1_7_deprecated_api.h:14:9: note: #pragma message: C:\\Apps\\Anaconda3\\lib\\site-packages\\numpy\\core\\include/numpy/npy_1_7_deprecated_api.h(14) : Warning Msg: Using deprecated NumPy API, disable it with #define NPY_NO_DEPRECATED_API NPY_1_7_API_VERSION\n",
      " #pragma message(_WARN___LOC__\"Using deprecated NumPy API, disable it with \" \\\n",
      "         ^\n",
      "knn.c: In function '__Pyx_ImportType_0_29_35':\n",
      "knn.c:5993:13: warning: unknown conversion type character 'z' in format [-Wformat=]\n",
      "             \"%s.%s size changed, may indicate binary incompatibility. \"\n",
      "             ^\n",
      "knn.c:5993:13: warning: unknown conversion type character 'z' in format [-Wformat=]\n",
      "knn.c:5993:13: warning: too many arguments for format [-Wformat-extra-args]\n"
     ]
    }
   ],
   "source": [
    "!cd knn_cython && python setup.py build_ext --inplace"
   ]
  },
  {
   "cell_type": "code",
   "execution_count": 15,
   "metadata": {},
   "outputs": [],
   "source": [
    "import knn_cython.knn as toy\n",
    "\n",
    "cython_pred = toy.kNN(x_train, x_test, K_optimal, class_train)"
   ]
  },
  {
   "cell_type": "markdown",
   "metadata": {},
   "source": [
    "4\\. Compare the runtime of the two algorithms (using `timeit.timeit`), and conclude about the interest of using cython in this case."
   ]
  },
  {
   "cell_type": "markdown",
   "metadata": {},
   "source": [
    "**Answer:**"
   ]
  },
  {
   "cell_type": "code",
   "execution_count": 19,
   "metadata": {},
   "outputs": [
    {
     "name": "stdout",
     "output_type": "stream",
     "text": [
      "temps d'éxécution sklearn : 0.0005814999999529391 \n",
      "temps d'éxécution fonction : 0.11262830000009671 \n",
      "temps d'éxécution cython : 0.003976799999918512\n",
      "\n",
      "utiliser cython diminue le temps d'éxécution d'un facteur 100 par rapport à ma fonction kNN, ce qui est énorme pour la même tâche\n"
     ]
    }
   ],
   "source": [
    "# your code\n",
    "\n",
    "knn = KNeighborsClassifier(n_neighbors=K_optimal)\n",
    "\n",
    "def entrainement_sk():\n",
    "    knn.fit(x_train, class_train)\n",
    "\n",
    "\n",
    "def entrainement_fonction() :\n",
    "    kNN(x_train, x_test, K_optimal, class_train)\n",
    "    \n",
    "def entrainement_cython() :\n",
    "    toy.kNN(x_train, x_test, K_optimal, class_train)\n",
    "    \n",
    "temps_sk = timeit.timeit(entrainement_sk, number=1)\n",
    "temps_fonction = timeit.timeit(entrainement_fonction, number=1)\n",
    "temps_cython = timeit.timeit(entrainement_cython, number=1)\n",
    "\n",
    "print(\"temps d'éxécution sklearn :\", temps_sk,\"\\ntemps d'éxécution fonction :\", temps_fonction,\"\\ntemps d'éxécution cython :\", temps_cython)\n",
    "print(\"\\nutiliser cython diminue le temps d'éxécution d'un facteur 100 par rapport à ma fonction kNN, ce qui est énorme pour la même tâche\")"
   ]
  },
  {
   "cell_type": "markdown",
   "metadata": {},
   "source": [
    "## <a name=\"ex3\">Exercise 3: Code acceleration with numba</a> [(&#8593;)](#content)\n",
    "\n",
    "`numba` is a just-in-time (JIT) compiler which translates Python codes into efficient machine code at runtime. A significant acceleration can be obtained by adding a few simple decorators to a standard Python function, up to a few restrictions detailed [here](http://numba.pydata.org/numba-doc/latest/user/performance-tips.html).\n",
    "\n",
    "If you have written most of the KNN classifier of exercise 1 with numpy, there is little to no chance that you will get an acceleration with numba (justifying the use of cython in this case). An interesting acceleration factor can however be obtained for the computation of the total variation investigated in session 2."
   ]
  },
  {
   "cell_type": "markdown",
   "metadata": {},
   "source": [
    "1\\. Take a look at the [numba 5 min tour](http://numba.pydata.org/numba-doc/latest/user/5minguide.html), and accelerate the total variation code from session 2 with the `@jit` decorator. You may have to rewrite small portions of your code to get the expected acceleration (see [performance tips](http://numba.pydata.org/numba-doc/latest/user/performance-tips.html))."
   ]
  },
  {
   "cell_type": "markdown",
   "metadata": {},
   "source": [
    "**Answer:**"
   ]
  },
  {
   "cell_type": "code",
   "execution_count": 13,
   "metadata": {},
   "outputs": [
    {
     "name": "stdout",
     "output_type": "stream",
     "text": [
      "Original time: 0.9589318000007552\n",
      "Optimized time: 0.33210959999996703\n",
      "optimization factor 2.8873956067540667\n"
     ]
    }
   ],
   "source": [
    "import numpy as np\n",
    "import timeit\n",
    "from numba import jit\n",
    "\n",
    "# Original function\n",
    "def original_tv(X):\n",
    "    XDh = gradient2D(X)[0]\n",
    "    DvX = gradient2D(X)[1]\n",
    "    TV_X = 0\n",
    "    for i in range(X.shape[0]):\n",
    "        for j in range(X.shape[1]):\n",
    "            TV_X += XDh[i][j] ** 2 + DvX[i][j] ** 2\n",
    "    return TV_X\n",
    "\n",
    "# Define gradient2D within the same @jit-decorated scope\n",
    "@jit(nopython=True)\n",
    "def gradient2D(X):\n",
    "    if X.ndim != 2:\n",
    "        raise AssertionError(\"L'argument doit être de dimension 2\")\n",
    "\n",
    "    # Manually compute XDh and DvX\n",
    "    XDh = np.zeros_like(X, dtype=np.complex128)\n",
    "    DvX = np.zeros_like(X, dtype=np.complex128)\n",
    "    \n",
    "    for i in range(X.shape[0] - 1):\n",
    "        for j in range(X.shape[1] - 1):\n",
    "            XDh[i, j] = X[i, j + 1] - X[i, j]\n",
    "            DvX[i, j] = X[i + 1, j] - X[i, j]\n",
    "    \n",
    "    XDh[:, -1] = X[:, 0] - X[:, -1]\n",
    "    DvX[-1, :] = X[0, :] - X[-1, :]\n",
    "    \n",
    "    return XDh, DvX\n",
    "\n",
    "# Optimized function with Numba JIT\n",
    "@jit(nopython=True)\n",
    "def tv(X):\n",
    "    XDh, DvX = gradient2D(X)\n",
    "    TV_X = 0\n",
    "    for i in range(X.shape[0]):\n",
    "        for j in range(X.shape[1]):\n",
    "            TV_X += XDh[i, j] ** 2 + DvX[i, j] ** 2\n",
    "    return TV_X\n",
    "\n",
    "# Function to generate random complex data\n",
    "def generate_random_data(shape):\n",
    "    np.random.seed(59)\n",
    "    real_part = np.random.rand(*shape)\n",
    "    imag_part = np.random.rand(*shape)\n",
    "    return real_part + 1j * imag_part\n",
    "\n",
    "# Timing the original and optimized functions\n",
    "data_shape = (100, 100)\n",
    "X = generate_random_data(data_shape)\n",
    "\n",
    "original_time = timeit.timeit(lambda: original_tv(X), number=100)\n",
    "optimized_time = timeit.timeit(lambda: tv(X), number=100)\n",
    "\n",
    "print(\"Original time:\", original_time)\n",
    "print(\"Optimized time:\", optimized_time)\n",
    "print(\"optimization factor\",original_time/optimized_time)"
   ]
  },
  {
   "cell_type": "markdown",
   "metadata": {},
   "source": [
    "2\\. Compare the runtime of the your numpy implementation and the `numba`-accelerated version (using `timeit.timeit`). \n",
    "> **Warning**: first run the numba version once to trigger the compilation, and then time it as usual. This is needed to avoid including the JIT compilation step in the runtime."
   ]
  },
  {
   "cell_type": "code",
   "execution_count": 14,
   "metadata": {},
   "outputs": [],
   "source": [
    "# your code\n",
    "\n",
    "import numpy as np\n",
    "import matplotlib.pyplot as plt\n",
    "from sklearn.metrics import accuracy_score\n",
    "import timeit\n",
    "from numba import jit\n",
    "\n",
    "# Define the knn_classification function and specify function signatures\n",
    "@jit(nopython=True)\n",
    "def knn_classification_numba(x_train, class_train, x_test, n_neighbors=5):\n",
    "    n_test = x_test.shape[0]\n",
    "    n_train = x_train.shape[0]\n",
    "    class_pred = np.empty(n_test, dtype=np.int64)\n",
    "\n",
    "    for q in range(n_test):\n",
    "        distances = np.empty(n_train, dtype=np.float64)\n",
    "        for i in range(n_train):\n",
    "            dist = 0.0\n",
    "            for j in range(x_train.shape[1]):\n",
    "                diff = x_train[i, j] - x_test[q, j]\n",
    "                dist += diff * diff\n",
    "            distances[i] = np.sqrt(dist)\n",
    "\n",
    "        nearest_indices = np.argsort(distances)[:n_neighbors]\n",
    "        nearest_labels = class_train[nearest_indices].astype(np.int64)\n",
    "        bincount = np.bincount(nearest_labels)\n",
    "        predicted_class = np.argmax(bincount)\n",
    "        class_pred[q] = predicted_class\n",
    "\n",
    "    return class_pred"
   ]
  },
  {
   "cell_type": "markdown",
   "metadata": {},
   "source": [
    "**Answer:**"
   ]
  },
  {
   "cell_type": "code",
   "execution_count": 15,
   "metadata": {},
   "outputs": [
    {
     "name": "stdout",
     "output_type": "stream",
     "text": [
      "K = 1:\n",
      "Numba K-NN Runtime: 0.0084 seconds\n",
      "Numpy K-NN Runtime: 1.1155 seconds\n",
      "\n",
      "K = 2:\n",
      "Numba K-NN Runtime: 0.0076 seconds\n",
      "Numpy K-NN Runtime: 1.1077 seconds\n",
      "\n",
      "K = 3:\n",
      "Numba K-NN Runtime: 0.0086 seconds\n",
      "Numpy K-NN Runtime: 1.1164 seconds\n",
      "\n",
      "K = 4:\n",
      "Numba K-NN Runtime: 0.0077 seconds\n",
      "Numpy K-NN Runtime: 1.1509 seconds\n",
      "\n",
      "K = 5:\n",
      "Numba K-NN Runtime: 0.0084 seconds\n",
      "Numpy K-NN Runtime: 1.1237 seconds\n",
      "\n",
      "K = 6:\n",
      "Numba K-NN Runtime: 0.0078 seconds\n",
      "Numpy K-NN Runtime: 1.1101 seconds\n",
      "\n",
      "K = 7:\n",
      "Numba K-NN Runtime: 0.0082 seconds\n",
      "Numpy K-NN Runtime: 1.1362 seconds\n",
      "\n",
      "K = 8:\n",
      "Numba K-NN Runtime: 0.0078 seconds\n",
      "Numpy K-NN Runtime: 1.1476 seconds\n",
      "\n",
      "K = 9:\n",
      "Numba K-NN Runtime: 0.0088 seconds\n",
      "Numpy K-NN Runtime: 1.1282 seconds\n",
      "\n",
      "K = 10:\n",
      "Numba K-NN Runtime: 0.0078 seconds\n",
      "Numpy K-NN Runtime: 1.1239 seconds\n",
      "\n",
      "K = 11:\n",
      "Numba K-NN Runtime: 0.0083 seconds\n",
      "Numpy K-NN Runtime: 1.1285 seconds\n",
      "\n",
      "K = 12:\n",
      "Numba K-NN Runtime: 0.0077 seconds\n",
      "Numpy K-NN Runtime: 1.1821 seconds\n",
      "\n",
      "K = 13:\n",
      "Numba K-NN Runtime: 0.0083 seconds\n",
      "Numpy K-NN Runtime: 1.1277 seconds\n",
      "\n",
      "K = 14:\n",
      "Numba K-NN Runtime: 0.0080 seconds\n",
      "Numpy K-NN Runtime: 1.1140 seconds\n",
      "\n",
      "K = 15:\n",
      "Numba K-NN Runtime: 0.0085 seconds\n",
      "Numpy K-NN Runtime: 1.1100 seconds\n",
      "\n",
      "K = 16:\n",
      "Numba K-NN Runtime: 0.0078 seconds\n",
      "Numpy K-NN Runtime: 1.1077 seconds\n",
      "\n",
      "K = 17:\n",
      "Numba K-NN Runtime: 0.0083 seconds\n",
      "Numpy K-NN Runtime: 1.1195 seconds\n",
      "\n",
      "K = 18:\n",
      "Numba K-NN Runtime: 0.0080 seconds\n",
      "Numpy K-NN Runtime: 1.1138 seconds\n",
      "\n",
      "K = 19:\n",
      "Numba K-NN Runtime: 0.0083 seconds\n",
      "Numpy K-NN Runtime: 1.1158 seconds\n",
      "\n",
      "K = 20:\n",
      "Numba K-NN Runtime: 0.0080 seconds\n",
      "Numpy K-NN Runtime: 1.1182 seconds\n",
      "\n"
     ]
    },
    {
     "data": {
      "image/png": "[encoded data removed]",
      "text/plain": [
       "<Figure size 1000x600 with 1 Axes>"
      ]
     },
     "metadata": {},
     "output_type": "display_data"
    }
   ],
   "source": [
    "# your code\n",
    "\n",
    "import numpy as np\n",
    "import matplotlib.pyplot as plt\n",
    "from sklearn.metrics import accuracy_score\n",
    "import timeit\n",
    "from numba import jit\n",
    "\n",
    "# Define a range of K values to test\n",
    "k_values = range(1, 21)\n",
    "\n",
    "# Run the numba-accelerated version once to trigger compilation\n",
    "_ = knn_classification_numba(x_train, class_train, x_test, n_neighbors=1)\n",
    "\n",
    "# Measure runtime for the numba-accelerated version\n",
    "numba_knn_runtimes = []\n",
    "for k in k_values:\n",
    "    numba_knn_runtime = timeit.timeit(lambda: knn_classification_numba(x_train, class_train, x_test, n_neighbors=k), number=10)\n",
    "    numba_knn_runtimes.append(numba_knn_runtime)\n",
    "\n",
    "# Measure runtime for the given knn_classification function\n",
    "given_knn_runtimes = []\n",
    "for k in k_values:\n",
    "    given_knn_runtime = timeit.timeit(lambda: kNN(x_train, x_test, k, class_train), number=10)\n",
    "    given_knn_runtimes.append(given_knn_runtime)\n",
    "\n",
    "# Print the runtimes for both implementations\n",
    "for k, numba_time, given_time in zip(k_values, numba_knn_runtimes, given_knn_runtimes):\n",
    "    print(f\"K = {k}:\")\n",
    "    print(f\"Numba K-NN Runtime: {numba_time:.4f} seconds\")\n",
    "    print(f\"Numpy K-NN Runtime: {given_time:.4f} seconds\")\n",
    "    print()\n",
    "\n",
    "# Plot the runtime comparison\n",
    "plt.figure(figsize=(10, 6))\n",
    "plt.plot(k_values, numba_knn_runtimes, label='Numba Implementation')\n",
    "plt.plot(k_values, given_knn_runtimes, label='Numpy Implementation')\n",
    "plt.xlabel('K')\n",
    "plt.ylabel('Runtime (seconds)')\n",
    "plt.title('Runtime Comparison for Different Values of K')\n",
    "plt.legend()\n",
    "\n",
    "plt.show()"
   ]
  }
 ],
 "metadata": {
  "file_extension": ".py",
  "kernelspec": {
   "display_name": "Python 3 (ipykernel)",
   "language": "python",
   "name": "python3"
  },
  "language_info": {
   "codemirror_mode": {
    "name": "ipython",
    "version": 3
   },
   "file_extension": ".py",
   "mimetype": "text/x-python",
   "name": "python",
   "nbconvert_exporter": "python",
   "pygments_lexer": "ipython3",
   "version": "3.10.12"
  },
  "mimetype": "text/x-python",
  "name": "python",
  "npconvert_exporter": "python",
  "pygments_lexer": "ipython3",
  "version": 3,
  "vscode": {
   "interpreter": {
    "hash": "916dbcbb3f70747c44a77c7bcd40155683ae19c65e1c03b4aa3499c5328201f1"
   }
  }
 },
 "nbformat": 4,
 "nbformat_minor": 4
}
